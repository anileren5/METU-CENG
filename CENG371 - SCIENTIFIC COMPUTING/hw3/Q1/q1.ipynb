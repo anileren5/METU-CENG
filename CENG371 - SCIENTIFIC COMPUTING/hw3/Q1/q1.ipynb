{
  "nbformat": 4,
  "nbformat_minor": 0,
  "metadata": {
    "colab": {
      "provenance": []
    },
    "kernelspec": {
      "name": "python3",
      "display_name": "Python 3"
    },
    "language_info": {
      "name": "python"
    }
  },
  "cells": [
    {
      "cell_type": "markdown",
      "source": [
        "#### b)"
      ],
      "metadata": {
        "id": "XwU0eIJgPrIh"
      }
    },
    {
      "cell_type": "code",
      "source": [
        "# Import necessary libraries\n",
        "import numpy as np"
      ],
      "metadata": {
        "id": "Gusuh1K5Psn7"
      },
      "execution_count": 19,
      "outputs": []
    },
    {
      "cell_type": "code",
      "source": [
        "# Define A\n",
        "A = np.zeros((5, 3))\n",
        "for i in range(1, 6):\n",
        "    for j in range(1, 4):\n",
        "        A[i-1, j-1] = np.sqrt(i**2 + j**2)\n",
        "\n",
        "print(A)"
      ],
      "metadata": {
        "colab": {
          "base_uri": "https://localhost:8080/"
        },
        "id": "RDEwryk9P1Qz",
        "outputId": "6883c425-264e-405c-db33-3a2375c82e2e"
      },
      "execution_count": 21,
      "outputs": [
        {
          "output_type": "stream",
          "name": "stdout",
          "text": [
            "[[1.41421356 2.23606798 3.16227766]\n",
            " [2.23606798 2.82842712 3.60555128]\n",
            " [3.16227766 3.60555128 4.24264069]\n",
            " [4.12310563 4.47213595 5.        ]\n",
            " [5.09901951 5.38516481 5.83095189]]\n"
          ]
        }
      ]
    },
    {
      "cell_type": "code",
      "source": [
        "# Calculate Singular Value Decomposition (SVD)\n",
        "U, S, Vt = np.linalg.svd(A)"
      ],
      "metadata": {
        "id": "sXkUvsMXSKFD"
      },
      "execution_count": 23,
      "outputs": []
    },
    {
      "cell_type": "code",
      "source": [
        "# Find the indices of the zero singular values\n",
        "zero_singular_values = np.isclose(S, 0)\n",
        "print(zero_singular_values)\n",
        "null_space_basis = Vt.T[:, zero_singular_values]"
      ],
      "metadata": {
        "colab": {
          "base_uri": "https://localhost:8080/"
        },
        "id": "GKj_EBugSP-5",
        "outputId": "d7fde2d8-d90c-4f86-eef3-4b53cf73aa82"
      },
      "execution_count": 32,
      "outputs": [
        {
          "output_type": "stream",
          "name": "stdout",
          "text": [
            "[False False False]\n"
          ]
        }
      ]
    },
    {
      "cell_type": "code",
      "source": [
        "# Display the null space vectors\n",
        "print(\"Null space vectors:\")\n",
        "print(null_space_basis)"
      ],
      "metadata": {
        "colab": {
          "base_uri": "https://localhost:8080/"
        },
        "id": "Q4S17pfRST-_",
        "outputId": "d868f6cd-ad46-4419-af0f-faf740363c68"
      },
      "execution_count": 33,
      "outputs": [
        {
          "output_type": "stream",
          "name": "stdout",
          "text": [
            "Null space vectors:\n",
            "[]\n"
          ]
        }
      ]
    }
  ]
}